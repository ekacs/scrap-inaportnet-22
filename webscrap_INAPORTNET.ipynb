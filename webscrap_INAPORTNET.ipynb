{
  "nbformat": 4,
  "nbformat_minor": 0,
  "metadata": {
    "colab": {
      "provenance": [],
      "collapsed_sections": [],
      "authorship_tag": "ABX9TyO7bZHmRYT1OSrIdyk60glE",
      "include_colab_link": true
    },
    "kernelspec": {
      "name": "python3",
      "display_name": "Python 3"
    },
    "language_info": {
      "name": "python"
    }
  },
  "cells": [
    {
      "cell_type": "markdown",
      "metadata": {
        "id": "view-in-github",
        "colab_type": "text"
      },
      "source": [
        "<a href=\"https://colab.research.google.com/github/ekacs/scrap-inaportnet-22/blob/main2/webscrap_INAPORTNET.ipynb\" target=\"_parent\"><img src=\"https://colab.research.google.com/assets/colab-badge.svg\" alt=\"Open In Colab\"/></a>"
      ]
    },
    {
      "cell_type": "code",
      "source": [
        "import requests\n",
        "from bs4 import BeautifulSoup as bs\n",
        "import pandas as pd\n",
        "import os\n",
        "import re\n",
        "from six.moves import urllib\n",
        "from unicodedata import normalize\n",
        "import numpy as np\n",
        "import io\n",
        "import datetime\n",
        "from datetime import datetime, timedelta\n",
        "from dateutil.tz import tzutc, tzlocal\n",
        "from google.colab import files\n"
      ],
      "metadata": {
        "id": "o_TI6yOd9HbU"
      },
      "execution_count": null,
      "outputs": []
    },
    {
      "cell_type": "code",
      "source": [
        "kode_lokasi='IDJKT'     #diisi kode lokasi pelabuhan\n",
        "tahun=2022              #diisi tahun\n",
        "jenis_layanan='RKBM'    #diisi kode layanan inaportnet yg mau discrape, diakhir kode dikasi TOLONG ditambahkan tanda kurung tutup ')'\n",
        "berapa_bulan=2          #diisi berapa bulan\n",
        "selisih_waktu_UTC=0     # diisi waktu selisih perbedaan dg waktu UTC\n",
        "\n"
      ],
      "metadata": {
        "id": "3xPvc1eHVMaz"
      },
      "execution_count": null,
      "outputs": []
    },
    {
      "cell_type": "code",
      "source": [
        "\n",
        "daftarbulan=['00','01','02','03','04','05','06','07','08','09','10','11','12']\n",
        "urls=[]\n",
        "daftarlink=[]   \n",
        "\n",
        "\n",
        "for i in range(1,berapa_bulan+1):\n",
        "  \n",
        "  #FYI gaes syntax format URL = https://monitoring-inaportnet.dephub.go.id/site/port_detail_service?unlocode=<kode_lokasi>&bulan=<angka_bulan_2digit>&tahun=<angka_tahun_4digit>&service_code=<kode_layanan>\n",
        "  urlpage = ('https://monitoring-inaportnet.dephub.go.id/site/port_detail_service?unlocode={kd_lokasi}&bulan={n}&tahun=2022&service_code={jns_produk}').format(kd_lokasi=kode_lokasi, n=(daftarbulan[i]), jns_produk=jenis_layanan)\n",
        "  urls.append(urlpage)\n",
        "\n",
        "\n",
        "for url in urls:\n",
        "    my_url = requests.get(url) \n",
        "  \n",
        "    soup = bs(my_url.content, 'html.parser')\n",
        "    #print(soup)\n",
        "    s = soup('a', class_='btn btn-primary ls-modal')\n",
        "    #print(s)\n",
        "    for link in soup.find_all('a', attrs={'href': re.compile(\"kode_perusahaan=\")}):\n",
        "      daftarlink.append('https://monitoring-inaportnet.dephub.go.id'+link.get('href')+'&download=1')\n",
        "      #daftarlink.append(link.get('href'))\n",
        "      #print(daftarlink)\n",
        "\n",
        "#len(daftarlink)\n",
        "#print(urls)\n",
        "#print(urlpage)\n",
        "\n",
        "\n",
        "hasil_scrape = pd.DataFrame(pd.read_csv(daftarlink[0]))\n",
        "\n",
        "for i in range(0,len(daftarlink)):\n",
        "  data = pd.read_html(daftarlink[i])\n",
        "  df = pd.DataFrame(data[0])\n",
        "\n",
        "  hasil_scrape = pd.concat([hasil_scrape,df],axis=0)\n",
        "\n",
        "\n",
        "\n",
        "#hasil_scrape\n",
        "#hasil_scrape.dropna(subset=[\"No\"])\n",
        "\n",
        "\n",
        "#PERHITUNGAN SELISIH WAKTU\n",
        "\n",
        "df=hasil_scrape\n",
        "df['Waktu Permohonan'] = pd.to_datetime(df['Waktu Permohonan'])\n",
        "df['Waktu Respon'] = pd.to_datetime(df['Waktu Respon'])\n",
        "\n",
        "df['waktu_permohonan_real'] = df['Waktu Permohonan']+pd.DateOffset(hours=selisih_waktu_UTC) \n",
        "df['selisih_waktu'] = df['Waktu Respon']-df['waktu_permohonan_real']\n",
        "#hasil_scrape.info()\n",
        "\n",
        "\n",
        "\n",
        "#cari data anomali Waktu Respon lebih dulu ketimbang Waktu Permohonan (asumsi ada bug di database inaportnet)\n",
        "\n",
        "hasil_scrape_bug=hasil_scrape[hasil_scrape['selisih_waktu']<timedelta(seconds=0)]\n",
        "hasil_scrape_ok=hasil_scrape[hasil_scrape['selisih_waktu']>timedelta(seconds=0)]\n",
        "\n",
        "\n",
        "\n",
        "#make criteria in time difference\n",
        "def sel(hasil_scrape):\n",
        "    if hasil_scrape['selisih_waktu'] < timedelta(seconds=31):\n",
        "        return \"Kurang dari 30 detik\"\n",
        "    elif hasil_scrape['selisih_waktu'] < timedelta(minutes=30):\n",
        "        return \"Antara 30 detik - 30 menit\"\n",
        "    elif hasil_scrape['selisih_waktu'] < timedelta(hours=1):\n",
        "        return \"Antara 30 - 60 menit\"\n",
        "    elif hasil_scrape['selisih_waktu'] < timedelta(hours=6):\n",
        "        return \"Antara 1 - 6 jam\"\n",
        "    elif hasil_scrape['selisih_waktu'] < timedelta(hours=12):\n",
        "        return \"Antara 6 - 12 jam\"\n",
        "    elif hasil_scrape['selisih_waktu'] < timedelta(days=1):\n",
        "        return \"Antara 12 - 24 jam\"\n",
        "    else:\n",
        "        return \"Lebih dari 24 jam\"\n",
        "\n",
        "hasil_scrape_ok['lama_pelayanan'] = hasil_scrape_ok.apply(sel, axis=1)\n",
        "sort_data = hasil_scrape_ok.sort_values(\"selisih_waktu\", axis = 0, ascending = True)\n",
        "\n",
        "\n",
        "lama_pelayanan = hasil_scrape_ok.groupby('lama_pelayanan')['lama_pelayanan'].count().reset_index(name='jumlah')\n",
        "lama_pelayanan['persentase'] = lama_pelayanan['jumlah']/len(hasil_scrape_ok)*100\n",
        "#lama_pelayanan\n",
        "\n",
        "\n",
        "#gruoping month-day pelayanan\n",
        "\n",
        "month_mapping={\n",
        "    1: 'January', \n",
        "    2: 'February', \n",
        "    3: 'March', \n",
        "    4: 'April', \n",
        "    5: 'May',\n",
        "    6: 'June', \n",
        "    7: 'July',\n",
        "    8: 'August'\n",
        "} \n",
        "dw_mapping={\n",
        "    0: 'Monday', \n",
        "    1: 'Tuesday', \n",
        "    2: 'Wednesday', \n",
        "    3: 'Thursday', \n",
        "    4: 'Friday',\n",
        "    5: 'Saturday', \n",
        "    6: 'Sunday'\n",
        "} \n",
        "\n",
        "hasil_scrape_ok['bulan permohonan'] = hasil_scrape_ok['jam_permohonan_UTC].dt.month.map(month_mapping)\n",
        "hasil_scrape_ok['hari permohonan'] = hasil_scrape_ok['jam_permohonan_UTC'].dt.dayofweek.map(dw_mapping)\n",
        "\n",
        "bulan_permohonan = hasil_scrape_ok.groupby('bulan permohonan')['bulan permohonan'].count().reset_index(name='jumlah')\n",
        "bulan_permohonan['persentase'] = bulan_permohonan['jumlah']/len(datagabung)*100\n",
        "\n",
        "def nomor(bulan_permohonan):\n",
        "    if bulan_permohonan['bulan permohonan'] == 'January':\n",
        "        return 1\n",
        "    elif bulan_permohonan['bulan permohonan'] == 'February':\n",
        "        return 2\n",
        "    elif bulan_permohonan['bulan permohonan'] == 'March':\n",
        "        return 3\n",
        "    elif bulan_permohonan['bulan permohonan'] == 'April':\n",
        "        return 4\n",
        "    elif bulan_permohonan['bulan permohonan'] == 'May':\n",
        "        return 5\n",
        "    elif bulan_permohonan['bulan permohonan'] == 'June':\n",
        "        return 6\n",
        "    elif bulan_permohonan['bulan permohonan'] == 'July':\n",
        "        return 7\n",
        "    else:\n",
        "        return 8\n",
        "\n",
        "bulan_permohonan['nomor'] = bulan_permohonan.apply(nomor, axis=1)\n",
        "bulan_permohonan = bulan_permohonan.sort_values(\"nomor\", axis = 0, ascending = True)\n",
        "#bulan_permohonan\n",
        "\n",
        "#stat hari permohnonan\n",
        "\n",
        "def nomor_hari(hari_permohonan):\n",
        "    if hari_permohonan['hari permohonan'] == 'Monday':\n",
        "        return 1\n",
        "    elif hari_permohonan['hari permohonan'] == 'Tuesday':\n",
        "        return 2\n",
        "    elif hari_permohonan['hari permohonan'] == 'Wednesday':\n",
        "        return 3\n",
        "    elif hari_permohonan['hari permohonan'] == 'Thursday':\n",
        "        return 4\n",
        "    elif hari_permohonan['hari permohonan'] == 'Saturday':\n",
        "        return 5\n",
        "    elif hari_permohonan['hari permohonan'] == 'Sunday':\n",
        "        return 6\n",
        "    else:\n",
        "        return 7\n",
        "    \n",
        "hari_permohonan = hasil_scrape_ok.groupby('hari permohonan')['hari permohonan'].count().reset_index(name='jumlah')\n",
        "hari_permohonan['Nomor'] = hari_permohonan.apply(nomor_hari, axis=1)\n",
        "hari_permohonan = hari_permohonan.sort_values(\"Nomor\", axis = 0, ascending = True)\n",
        "#hari_permohonan\n",
        "\n",
        "\n",
        "#pemabgian rentang waktu permohonan\n",
        "batas_waktu1 = pd.to_datetime('06:00:00', format='%H:%M:%S')\n",
        "batas_waktu2 = pd.to_datetime('12:00:00', format='%H:%M:%S')\n",
        "batas_waktu3 = pd.to_datetime('18:00:00', format='%H:%M:%S')\n",
        "\n",
        "def jam(hasil_scrape_ok):\n",
        "    if hasil_scrape_ok['jam permohonan'] < batas_waktu1:\n",
        "        return \"Jam 00.00 s.d. 06.00\"\n",
        "    elif hasil_scrape_ok['jam permohonan'] < batas_waktu2:\n",
        "        return \"Jam 06.00 s.d. 12.00\"\n",
        "    elif hasil_scrape_ok['jam permohonan'] < batas_waktu3:\n",
        "        return \"Jam 12.00 s.d. 18.00\"\n",
        "    else:\n",
        "        return \"Jam 18.00 s.d. 24.00\"\n",
        "\n",
        "hasil_scrape_ok['jam permohonan'] = hasil_scrape_ok['jam_permohonan_UTC'].dt.time\n",
        "hasil_scrape_ok['jam permohonan'] = pd.to_datetime(hasil_scrape_ok['jam permohonan'], format='%H:%M:%S')\n",
        "hasil_scrape_ok['pembagian jam permohonan'] = hasil_scrape_ok.apply(jam, axis=1)\n",
        "\n",
        "waktu_permohonan = datagabung_tanpabug.groupby('pembagian jam permohonan')['pembagian jam permohonan'].count().reset_index(name='jumlah')\n",
        "waktu_permohonan['persentase'] = waktu_permohonan['jumlah']/len(datagabung_tanpabug)*100\n",
        "#waktu_permohonan\n"
      ],
      "metadata": {
        "id": "pcypDdQX9HEN"
      },
      "execution_count": null,
      "outputs": []
    },
    {
      "cell_type": "markdown",
      "source": [],
      "metadata": {
        "id": "2uKAgCLeyOfn"
      }
    },
    {
      "cell_type": "markdown",
      "source": [],
      "metadata": {
        "id": "tFRwStLMyOhb"
      }
    },
    {
      "cell_type": "markdown",
      "source": [],
      "metadata": {
        "id": "St25Vr-RyOkz"
      }
    },
    {
      "cell_type": "markdown",
      "source": [],
      "metadata": {
        "id": "6NyaWJmRyOma"
      }
    },
    {
      "cell_type": "markdown",
      "source": [],
      "metadata": {
        "id": "NKjBjT7jyOqP"
      }
    },
    {
      "cell_type": "markdown",
      "source": [],
      "metadata": {
        "id": "CfZGxuBgyOuq"
      }
    },
    {
      "cell_type": "markdown",
      "source": [
        "#data hasil scrape yg anomali (asumsi ada bug)"
      ],
      "metadata": {
        "id": "pWkGStZxys4g"
      }
    },
    {
      "cell_type": "code",
      "source": [
        "\n",
        "hasil_scrape_bug.dropna(subset=['No']).to_csv('hasil_scrape_bug.csv')\n",
        "files.download('hasil_scrape_bug.csv')\n"
      ],
      "metadata": {
        "id": "ZO-4YEIPyyeY"
      },
      "execution_count": null,
      "outputs": []
    },
    {
      "cell_type": "markdown",
      "source": [
        "#statistik durasi lama pelayanan"
      ],
      "metadata": {
        "id": "PahT0S7-wt3B"
      }
    },
    {
      "cell_type": "code",
      "source": [
        "lama_pelayanan"
      ],
      "metadata": {
        "colab": {
          "base_uri": "https://localhost:8080/",
          "height": 143
        },
        "id": "EX_kZx77w1Io",
        "outputId": "db3b96b7-d3d0-4184-9ef6-68a4e329e826"
      },
      "execution_count": null,
      "outputs": [
        {
          "output_type": "execute_result",
          "data": {
            "text/plain": [
              "      lama_pelayanan  jumlah  persentase\n",
              "0   Antara 1 - 6 jam       1    0.050942\n",
              "1  Antara 6 - 12 jam    1927   98.166072\n",
              "2  Lebih dari 24 jam      35    1.782985"
            ],
            "text/html": [
              "\n",
              "  <div id=\"df-cc380ca6-fae9-4a71-ae43-ac7daa5cb1e2\">\n",
              "    <div class=\"colab-df-container\">\n",
              "      <div>\n",
              "<style scoped>\n",
              "    .dataframe tbody tr th:only-of-type {\n",
              "        vertical-align: middle;\n",
              "    }\n",
              "\n",
              "    .dataframe tbody tr th {\n",
              "        vertical-align: top;\n",
              "    }\n",
              "\n",
              "    .dataframe thead th {\n",
              "        text-align: right;\n",
              "    }\n",
              "</style>\n",
              "<table border=\"1\" class=\"dataframe\">\n",
              "  <thead>\n",
              "    <tr style=\"text-align: right;\">\n",
              "      <th></th>\n",
              "      <th>lama_pelayanan</th>\n",
              "      <th>jumlah</th>\n",
              "      <th>persentase</th>\n",
              "    </tr>\n",
              "  </thead>\n",
              "  <tbody>\n",
              "    <tr>\n",
              "      <th>0</th>\n",
              "      <td>Antara 1 - 6 jam</td>\n",
              "      <td>1</td>\n",
              "      <td>0.050942</td>\n",
              "    </tr>\n",
              "    <tr>\n",
              "      <th>1</th>\n",
              "      <td>Antara 6 - 12 jam</td>\n",
              "      <td>1927</td>\n",
              "      <td>98.166072</td>\n",
              "    </tr>\n",
              "    <tr>\n",
              "      <th>2</th>\n",
              "      <td>Lebih dari 24 jam</td>\n",
              "      <td>35</td>\n",
              "      <td>1.782985</td>\n",
              "    </tr>\n",
              "  </tbody>\n",
              "</table>\n",
              "</div>\n",
              "      <button class=\"colab-df-convert\" onclick=\"convertToInteractive('df-cc380ca6-fae9-4a71-ae43-ac7daa5cb1e2')\"\n",
              "              title=\"Convert this dataframe to an interactive table.\"\n",
              "              style=\"display:none;\">\n",
              "        \n",
              "  <svg xmlns=\"http://www.w3.org/2000/svg\" height=\"24px\"viewBox=\"0 0 24 24\"\n",
              "       width=\"24px\">\n",
              "    <path d=\"M0 0h24v24H0V0z\" fill=\"none\"/>\n",
              "    <path d=\"M18.56 5.44l.94 2.06.94-2.06 2.06-.94-2.06-.94-.94-2.06-.94 2.06-2.06.94zm-11 1L8.5 8.5l.94-2.06 2.06-.94-2.06-.94L8.5 2.5l-.94 2.06-2.06.94zm10 10l.94 2.06.94-2.06 2.06-.94-2.06-.94-.94-2.06-.94 2.06-2.06.94z\"/><path d=\"M17.41 7.96l-1.37-1.37c-.4-.4-.92-.59-1.43-.59-.52 0-1.04.2-1.43.59L10.3 9.45l-7.72 7.72c-.78.78-.78 2.05 0 2.83L4 21.41c.39.39.9.59 1.41.59.51 0 1.02-.2 1.41-.59l7.78-7.78 2.81-2.81c.8-.78.8-2.07 0-2.86zM5.41 20L4 18.59l7.72-7.72 1.47 1.35L5.41 20z\"/>\n",
              "  </svg>\n",
              "      </button>\n",
              "      \n",
              "  <style>\n",
              "    .colab-df-container {\n",
              "      display:flex;\n",
              "      flex-wrap:wrap;\n",
              "      gap: 12px;\n",
              "    }\n",
              "\n",
              "    .colab-df-convert {\n",
              "      background-color: #E8F0FE;\n",
              "      border: none;\n",
              "      border-radius: 50%;\n",
              "      cursor: pointer;\n",
              "      display: none;\n",
              "      fill: #1967D2;\n",
              "      height: 32px;\n",
              "      padding: 0 0 0 0;\n",
              "      width: 32px;\n",
              "    }\n",
              "\n",
              "    .colab-df-convert:hover {\n",
              "      background-color: #E2EBFA;\n",
              "      box-shadow: 0px 1px 2px rgba(60, 64, 67, 0.3), 0px 1px 3px 1px rgba(60, 64, 67, 0.15);\n",
              "      fill: #174EA6;\n",
              "    }\n",
              "\n",
              "    [theme=dark] .colab-df-convert {\n",
              "      background-color: #3B4455;\n",
              "      fill: #D2E3FC;\n",
              "    }\n",
              "\n",
              "    [theme=dark] .colab-df-convert:hover {\n",
              "      background-color: #434B5C;\n",
              "      box-shadow: 0px 1px 3px 1px rgba(0, 0, 0, 0.15);\n",
              "      filter: drop-shadow(0px 1px 2px rgba(0, 0, 0, 0.3));\n",
              "      fill: #FFFFFF;\n",
              "    }\n",
              "  </style>\n",
              "\n",
              "      <script>\n",
              "        const buttonEl =\n",
              "          document.querySelector('#df-cc380ca6-fae9-4a71-ae43-ac7daa5cb1e2 button.colab-df-convert');\n",
              "        buttonEl.style.display =\n",
              "          google.colab.kernel.accessAllowed ? 'block' : 'none';\n",
              "\n",
              "        async function convertToInteractive(key) {\n",
              "          const element = document.querySelector('#df-cc380ca6-fae9-4a71-ae43-ac7daa5cb1e2');\n",
              "          const dataTable =\n",
              "            await google.colab.kernel.invokeFunction('convertToInteractive',\n",
              "                                                     [key], {});\n",
              "          if (!dataTable) return;\n",
              "\n",
              "          const docLinkHtml = 'Like what you see? Visit the ' +\n",
              "            '<a target=\"_blank\" href=https://colab.research.google.com/notebooks/data_table.ipynb>data table notebook</a>'\n",
              "            + ' to learn more about interactive tables.';\n",
              "          element.innerHTML = '';\n",
              "          dataTable['output_type'] = 'display_data';\n",
              "          await google.colab.output.renderOutput(dataTable, element);\n",
              "          const docLink = document.createElement('div');\n",
              "          docLink.innerHTML = docLinkHtml;\n",
              "          element.appendChild(docLink);\n",
              "        }\n",
              "      </script>\n",
              "    </div>\n",
              "  </div>\n",
              "  "
            ]
          },
          "metadata": {},
          "execution_count": 12
        }
      ]
    },
    {
      "cell_type": "markdown",
      "source": [
        "#statistik waktu pelayanan"
      ],
      "metadata": {
        "id": "3B9PjL26zbuz"
      }
    },
    {
      "cell_type": "code",
      "source": [],
      "metadata": {
        "id": "q_uOGHzKzfnK"
      },
      "execution_count": null,
      "outputs": []
    },
    {
      "cell_type": "markdown",
      "source": [
        "#statistik hari pelayanan"
      ],
      "metadata": {
        "id": "RZickAJLzgFd"
      }
    },
    {
      "cell_type": "code",
      "source": [],
      "metadata": {
        "id": "l_9QIsjszj0u"
      },
      "execution_count": null,
      "outputs": []
    },
    {
      "cell_type": "markdown",
      "source": [
        "#statistik bulan pelayanan"
      ],
      "metadata": {
        "id": "t_4bXWvBzkgf"
      }
    },
    {
      "cell_type": "code",
      "source": [
        "bulan_permohonan"
      ],
      "metadata": {
        "id": "iUTphiuUztEY"
      },
      "execution_count": null,
      "outputs": []
    },
    {
      "cell_type": "markdown",
      "source": [],
      "metadata": {
        "id": "1LgNqJp70ovG"
      }
    },
    {
      "cell_type": "markdown",
      "source": [],
      "metadata": {
        "id": "ZszCWlCE0ow6"
      }
    },
    {
      "cell_type": "markdown",
      "source": [],
      "metadata": {
        "id": "n1B-QCW70o0a"
      }
    },
    {
      "cell_type": "markdown",
      "source": [],
      "metadata": {
        "id": "WUkK398H0o2E"
      }
    },
    {
      "cell_type": "markdown",
      "source": [],
      "metadata": {
        "id": "kzsfzqGc0o5X"
      }
    },
    {
      "cell_type": "markdown",
      "source": [],
      "metadata": {
        "id": "FIhAavT20o65"
      }
    },
    {
      "cell_type": "markdown",
      "source": [],
      "metadata": {
        "id": "IApN50uE0o-d"
      }
    },
    {
      "cell_type": "markdown",
      "source": [],
      "metadata": {
        "id": "2yx8UHky0pAv"
      }
    },
    {
      "cell_type": "code",
      "source": [
        "\n",
        "for url in urls:\n",
        "    my_url = requests.get(url) \n",
        "  \n",
        "    soup = bs(my_url.content, 'html.parser')\n",
        "    #print(soup)\n",
        "    s = soup('a', class_='btn btn-primary ls-modal')\n",
        "    #print(s)\n",
        "    for link in soup.find_all('a', attrs={'href': re.compile(\"kode_perusahaan=\")}):\n",
        "      daftarlink.append('https://monitoring-inaportnet.dephub.go.id'+link.get('href')+'&download=1')\n",
        "      #daftarlink.append(link.get('href'))\n",
        "      #print(daftarlink)\n",
        "\n",
        "len(daftarlink)\n",
        "#print(urls)\n",
        "#print(urlpage)\n",
        "\n"
      ],
      "metadata": {
        "id": "EnDB9OqQjKDZ"
      },
      "execution_count": null,
      "outputs": []
    },
    {
      "cell_type": "code",
      "source": [
        "hasil_scrape = pd.DataFrame(pd.read_csv(daftarlink[0]))\n",
        "\n",
        "for i in range(0,len(daftarlink)):\n",
        "  data = pd.read_html(daftarlink[i])\n",
        "  df = pd.DataFrame(data[0])\n",
        "\n",
        "  hasil_scrape = pd.concat([hasil_scrape,df],axis=0)\n",
        "\n",
        "\n",
        "\n",
        "hasil_scrape\n",
        "#hasil_scrape.dropna(subset=[\"No\"])\n"
      ],
      "metadata": {
        "id": "UVTGhkdG2PWc"
      },
      "execution_count": null,
      "outputs": []
    },
    {
      "cell_type": "code",
      "source": [
        "\n",
        "#cari data anomali Waktu Respon lebih dulu ketimbang Waktu Permohonan (asumsi ada bug di database inaportnet)\n",
        "\n",
        "hasil_scrape_bug=hasil_scrape[hasil_scrape['selisih_waktu']<timedelta(seconds=0)]\n",
        "hasil_scrape_ok=hasil_scrape[hasil_scrape['selisih_waktu']>timedelta(seconds=0)]"
      ],
      "metadata": {
        "id": "foKqmZads3fD"
      },
      "execution_count": null,
      "outputs": []
    },
    {
      "cell_type": "code",
      "source": [
        "\n",
        "#STAT LAMA PELAYANAN\n",
        "def sel(hasil_scrape):\n",
        "    if hasil_scrape['selisih_waktu'] < timedelta(seconds=31):\n",
        "        return \"Kurang dari 30 detik\"\n",
        "    elif hasil_scrape['selisih_waktu'] < timedelta(minutes=30):\n",
        "        return \"Antara 30 detik - 30 menit\"\n",
        "    elif hasil_scrape['selisih_waktu'] < timedelta(hours=1):\n",
        "        return \"Antara 30 - 60 menit\"\n",
        "    elif hasil_scrape['selisih_waktu'] < timedelta(hours=6):\n",
        "        return \"Antara 1 - 6 jam\"\n",
        "    elif hasil_scrape['selisih_waktu'] < timedelta(hours=12):\n",
        "        return \"Antara 6 - 12 jam\"\n",
        "    elif hasil_scrape['selisih_waktu'] < timedelta(days=1):\n",
        "        return \"Antara 12 - 24 jam\"\n",
        "    else:\n",
        "        return \"Lebih dari 24 jam\"\n",
        "\n",
        "hasil_scrape_ok['lama_pelayanan'] = hasil_scrape_ok.apply(sel, axis=1)\n",
        "sort_data = hasil_scrape_ok.sort_values(\"selisih_waktu\", axis = 0, ascending = True)\n",
        "\n",
        "\n",
        "\n",
        "lama_pelayanan = hasil_scrape_ok.groupby('lama_pelayanan')['lama_pelayanan'].count().reset_index(name='jumlah')\n",
        "lama_pelayanan['persentase'] = lama_pelayanan['jumlah']/len(hasil_scrape_ok)*100\n",
        "\n",
        "\n",
        "#STATISTIK WAKTU PERMOHONAN\n",
        "def jam(datagabung_tanpabug):\n",
        "    if datagabung_tanpabug['jam permohonan'] < batas_waktu1:\n",
        "        return \"Jam 00.00 s.d. 06.00\"\n",
        "    elif datagabung_tanpabug['jam permohonan'] < batas_waktu2:\n",
        "        return \"Jam 06.00 s.d. 12.00\"\n",
        "    elif datagabung_tanpabug['jam permohonan'] < batas_waktu3:\n",
        "        return \"Jam 12.00 s.d. 18.00\"\n",
        "    else:\n",
        "        return \"Jam 18.00 s.d. 24.00\"\n",
        "\n",
        "datagabung_tanpabug['jam permohonan'] = datagabung_tanpabug['jam_permohonan_UTC'].dt.time\n",
        "datagabung_tanpabug['jam permohonan'] = pd.to_datetime(datagabung_tanpabug['jam permohonan'], format='%H:%M:%S')\n",
        "datagabung_tanpabug['pembagian jam permohonan'] = datagabung_tanpabug.apply(jam, axis=1)\n"
      ],
      "metadata": {
        "id": "X4SHgrrBvD2s"
      },
      "execution_count": null,
      "outputs": []
    },
    {
      "cell_type": "code",
      "source": [
        "#gruoping month-day pelayanan\n",
        "\n",
        "month_mapping={\n",
        "    1: 'January', \n",
        "    2: 'February', \n",
        "    3: 'March', \n",
        "    4: 'April', \n",
        "    5: 'May',\n",
        "    6: 'June', \n",
        "    7: 'July',\n",
        "    8: 'August'\n",
        "} \n",
        "dw_mapping={\n",
        "    0: 'Monday', \n",
        "    1: 'Tuesday', \n",
        "    2: 'Wednesday', \n",
        "    3: 'Thursday', \n",
        "    4: 'Friday',\n",
        "    5: 'Saturday', \n",
        "    6: 'Sunday'\n",
        "} \n",
        "\n",
        "hasil_scrape_ok['bulan permohonan'] = hasil_scrape_ok['jam_permohonan_UTC].dt.month.map(month_mapping)\n",
        "hasil_scrape_ok['hari permohonan'] = hasil_scrape_ok['jam_permohonan_UTC'].dt.dayofweek.map(dw_mapping)\n",
        "\n",
        "bulan_permohonan = hasil_scrape_ok.groupby('bulan permohonan')['bulan permohonan'].count().reset_index(name='jumlah')\n",
        "bulan_permohonan['persentase'] = bulan_permohonan['jumlah']/len(datagabung)*100\n",
        "\n",
        "def nomor(bulan_permohonan):\n",
        "    if bulan_permohonan['bulan permohonan'] == 'January':\n",
        "        return 1\n",
        "    elif bulan_permohonan['bulan permohonan'] == 'February':\n",
        "        return 2\n",
        "    elif bulan_permohonan['bulan permohonan'] == 'March':\n",
        "        return 3\n",
        "    elif bulan_permohonan['bulan permohonan'] == 'April':\n",
        "        return 4\n",
        "    elif bulan_permohonan['bulan permohonan'] == 'May':\n",
        "        return 5\n",
        "    elif bulan_permohonan['bulan permohonan'] == 'June':\n",
        "        return 6\n",
        "    elif bulan_permohonan['bulan permohonan'] == 'July':\n",
        "        return 7\n",
        "    else:\n",
        "        return 8\n",
        "\n",
        "bulan_permohonan['nomor'] = bulan_permohonan.apply(nomor, axis=1)\n",
        "bulan_permohonan = bulan_permohonan.sort_values(\"nomor\", axis = 0, ascending = True)\n",
        "bulan_permohonan\n"
      ],
      "metadata": {
        "id": "ZbYnU6GT5lRs"
      },
      "execution_count": null,
      "outputs": []
    },
    {
      "cell_type": "markdown",
      "source": [],
      "metadata": {
        "id": "CRMELIqhQtZ8"
      }
    },
    {
      "cell_type": "markdown",
      "source": [],
      "metadata": {
        "id": "DOoEVDsdQtm7"
      }
    }
  ]
}