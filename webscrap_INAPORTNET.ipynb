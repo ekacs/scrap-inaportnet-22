{
  "nbformat": 4,
  "nbformat_minor": 0,
  "metadata": {
    "colab": {
      "provenance": [],
      "collapsed_sections": [],
      "authorship_tag": "ABX9TyNlRKfscC9INgDLUEU26fKe",
      "include_colab_link": true
    },
    "kernelspec": {
      "name": "python3",
      "display_name": "Python 3"
    },
    "language_info": {
      "name": "python"
    }
  },
  "cells": [
    {
      "cell_type": "markdown",
      "metadata": {
        "id": "view-in-github",
        "colab_type": "text"
      },
      "source": [
        "<a href=\"https://colab.research.google.com/github/ekacs/scrap-inaportnet-22/blob/main2/webscrap_INAPORTNET.ipynb\" target=\"_parent\"><img src=\"https://colab.research.google.com/assets/colab-badge.svg\" alt=\"Open In Colab\"/></a>"
      ]
    },
    {
      "cell_type": "code",
      "source": [
        "import requests\n",
        "from bs4 import BeautifulSoup as bs\n",
        "import pandas as pd\n",
        "import os\n",
        "import re\n",
        "from six.moves import urllib\n",
        "from unicodedata import normalize\n",
        "import numpy as np\n",
        "import io\n",
        "import datetime\n",
        "from datetime import datetime, timedelta\n",
        "from dateutil.tz import tzutc, tzlocal\n",
        "from google.colab import files\n"
      ],
      "metadata": {
        "id": "o_TI6yOd9HbU"
      },
      "execution_count": 1,
      "outputs": []
    },
    {
      "cell_type": "code",
      "source": [
        "kode_lokasi='IDJKT'     #diisi kode lokasi pelabuhan\n",
        "tahun=2022              #diisi tahun\n",
        "jenis_layanan='RKBM'    #diisi kode layanan inaportnet yg mau discrape, diakhir kode dikasi TOLONG ditambahkan tanda kurung tutup ')'\n",
        "berapa_bulan=2          #diisi berapa bulan\n",
        "selisih_waktu_UTC=0     # diisi waktu selisih perbedaan dg waktu UTC\n",
        "\n"
      ],
      "metadata": {
        "id": "3xPvc1eHVMaz"
      },
      "execution_count": 2,
      "outputs": []
    },
    {
      "cell_type": "code",
      "source": [
        "\n",
        "daftarbulan=['00','01','02','03','04','05','06','07','08','09','10','11','12']\n",
        "urls=[]\n",
        "daftarlink=[]   \n",
        "\n",
        "\n",
        "for i in range(1,berapa_bulan+1):\n",
        "  \n",
        "  #FYI gaes syntax format URL = https://monitoring-inaportnet.dephub.go.id/site/port_detail_service?unlocode=<kode_lokasi>&bulan=<angka_bulan_2digit>&tahun=<angka_tahun_4digit>&service_code=<kode_layanan>\n",
        "  urlpage = ('https://monitoring-inaportnet.dephub.go.id/site/port_detail_service?unlocode={kd_lokasi}&bulan={n}&tahun=2022&service_code={jns_produk}').format(kd_lokasi=kode_lokasi, n=(daftarbulan[i]), jns_produk=jenis_layanan)\n",
        "  urls.append(urlpage)\n",
        "\n",
        "\n",
        "for url in urls:\n",
        "    my_url = requests.get(url) \n",
        "  \n",
        "    soup = bs(my_url.content, 'html.parser')\n",
        "    #print(soup)\n",
        "    s = soup('a', class_='btn btn-primary ls-modal')\n",
        "    #print(s)\n",
        "    for link in soup.find_all('a', attrs={'href': re.compile(\"kode_perusahaan=\")}):\n",
        "      daftarlink.append('https://monitoring-inaportnet.dephub.go.id'+link.get('href')+'&download=1')\n",
        "      #daftarlink.append(link.get('href'))\n",
        "      #print(daftarlink)\n",
        "\n",
        "#len(daftarlink)\n",
        "#print(urls)\n",
        "#print(urlpage)\n",
        "\n",
        "\n",
        "hasil_scrape = pd.DataFrame(pd.read_csv(daftarlink[0]))\n",
        "\n",
        "for i in range(0,len(daftarlink)):\n",
        "  data = pd.read_html(daftarlink[i])\n",
        "  df = pd.DataFrame(data[0])\n",
        "\n",
        "  hasil_scrape = pd.concat([hasil_scrape,df],axis=0)\n",
        "\n",
        "\n",
        "\n",
        "#hasil_scrape\n",
        "#hasil_scrape.dropna(subset=[\"No\"])\n",
        "\n",
        "\n",
        "#PERHITUNGAN SELISIH WAKTU\n",
        "\n",
        "df=hasil_scrape\n",
        "df['Waktu Permohonan'] = pd.to_datetime(df['Waktu Permohonan'])\n",
        "df['Waktu Respon'] = pd.to_datetime(df['Waktu Respon'])\n",
        "\n",
        "df['waktu_permohonan_real'] = df['Waktu Permohonan']+pd.DateOffset(hours=selisih_waktu_UTC) \n",
        "df['selisih_waktu'] = df['Waktu Respon']-df['waktu_permohonan_real']\n",
        "#hasil_scrape.info()\n",
        "\n",
        "\n",
        "\n",
        "#cari data anomali Waktu Respon lebih dulu ketimbang Waktu Permohonan (asumsi ada bug di database inaportnet)\n",
        "\n",
        "hasil_scrape_bug=hasil_scrape[hasil_scrape['selisih_waktu']<timedelta(seconds=0)]\n",
        "hasil_scrape_ok=hasil_scrape[hasil_scrape['selisih_waktu']>timedelta(seconds=0)]\n",
        "\n",
        "\n",
        "\n",
        "#make criteria in time difference\n",
        "def sel(hasil_scrape):\n",
        "    if hasil_scrape['selisih_waktu'] < timedelta(seconds=31):\n",
        "        return \"Kurang dari 30 detik\"\n",
        "    elif hasil_scrape['selisih_waktu'] < timedelta(minutes=30):\n",
        "        return \"Antara 30 detik - 30 menit\"\n",
        "    elif hasil_scrape['selisih_waktu'] < timedelta(hours=1):\n",
        "        return \"Antara 30 - 60 menit\"\n",
        "    elif hasil_scrape['selisih_waktu'] < timedelta(hours=6):\n",
        "        return \"Antara 1 - 6 jam\"\n",
        "    elif hasil_scrape['selisih_waktu'] < timedelta(hours=12):\n",
        "        return \"Antara 6 - 12 jam\"\n",
        "    elif hasil_scrape['selisih_waktu'] < timedelta(days=1):\n",
        "        return \"Antara 12 - 24 jam\"\n",
        "    else:\n",
        "        return \"Lebih dari 24 jam\"\n",
        "\n",
        "hasil_scrape_ok['lama_pelayanan'] = hasil_scrape_ok.apply(sel, axis=1)\n",
        "sort_data = hasil_scrape_ok.sort_values(\"selisih_waktu\", axis = 0, ascending = True)\n",
        "\n",
        "\n",
        "lama_pelayanan = hasil_scrape_ok.groupby('lama_pelayanan')['lama_pelayanan'].count().reset_index(name='jumlah')\n",
        "lama_pelayanan['persentase'] = lama_pelayanan['jumlah']/len(hasil_scrape_ok)*100\n",
        "#lama_pelayanan\n",
        "\n",
        "\n",
        "#gruoping month-day pelayanan\n",
        "\n",
        "month_mapping={\n",
        "    1: 'January', \n",
        "    2: 'February', \n",
        "    3: 'March', \n",
        "    4: 'April', \n",
        "    5: 'May',\n",
        "    6: 'June', \n",
        "    7: 'July',\n",
        "    8: 'August'\n",
        "} \n",
        "dw_mapping={\n",
        "    0: 'Monday', \n",
        "    1: 'Tuesday', \n",
        "    2: 'Wednesday', \n",
        "    3: 'Thursday', \n",
        "    4: 'Friday',\n",
        "    5: 'Saturday', \n",
        "    6: 'Sunday'\n",
        "} \n",
        "\n",
        "\n",
        "hasil_scrape_ok['bulan permohonan'] = hasil_scrape_ok['waktu_permohonan_real'].dt.month.map(month_mapping)\n",
        "hasil_scrape_ok['hari permohonan'] = hasil_scrape_ok['waktu_permohonan_real'].dt.dayofweek.map(dw_mapping)\n",
        "\n",
        "bulan_permohonan = hasil_scrape_ok.groupby('bulan permohonan')['bulan permohonan'].count().reset_index(name='jumlah')\n",
        "bulan_permohonan['persentase'] = bulan_permohonan['jumlah']/len(datagabung)*100\n",
        "\n",
        "def nomor(bulan_permohonan):\n",
        "    if bulan_permohonan['bulan permohonan'] == 'January':\n",
        "        return 1\n",
        "    elif bulan_permohonan['bulan permohonan'] == 'February':\n",
        "        return 2\n",
        "    elif bulan_permohonan['bulan permohonan'] == 'March':\n",
        "        return 3\n",
        "    elif bulan_permohonan['bulan permohonan'] == 'April':\n",
        "        return 4\n",
        "    elif bulan_permohonan['bulan permohonan'] == 'May':\n",
        "        return 5\n",
        "    elif bulan_permohonan['bulan permohonan'] == 'June':\n",
        "        return 6\n",
        "    elif bulan_permohonan['bulan permohonan'] == 'July':\n",
        "        return 7\n",
        "    else:\n",
        "        return 8\n",
        "\n",
        "bulan_permohonan['nomor'] = bulan_permohonan.apply(nomor, axis=1)\n",
        "bulan_permohonan = bulan_permohonan.sort_values(\"nomor\", axis = 0, ascending = True)\n",
        "#bulan_permohonan\n",
        "\n",
        "#stat hari permohnonan\n",
        "\n",
        "def nomor_hari(hari_permohonan):\n",
        "    if hari_permohonan['hari permohonan'] == 'Monday':\n",
        "        return 1\n",
        "    elif hari_permohonan['hari permohonan'] == 'Tuesday':\n",
        "        return 2\n",
        "    elif hari_permohonan['hari permohonan'] == 'Wednesday':\n",
        "        return 3\n",
        "    elif hari_permohonan['hari permohonan'] == 'Thursday':\n",
        "        return 4\n",
        "    elif hari_permohonan['hari permohonan'] == 'Saturday':\n",
        "        return 5\n",
        "    elif hari_permohonan['hari permohonan'] == 'Sunday':\n",
        "        return 6\n",
        "    else:\n",
        "        return 7\n",
        "    \n",
        "hari_permohonan = hasil_scrape_ok.groupby('hari permohonan')['hari permohonan'].count().reset_index(name='jumlah')\n",
        "hari_permohonan['Nomor'] = hari_permohonan.apply(nomor_hari, axis=1)\n",
        "hari_permohonan = hari_permohonan.sort_values(\"Nomor\", axis = 0, ascending = True)\n",
        "#hari_permohonan\n",
        "\n",
        "\n",
        "#pemabgian rentang waktu permohonan\n",
        "batas_waktu1 = pd.to_datetime('06:00:00', format='%H:%M:%S')\n",
        "batas_waktu2 = pd.to_datetime('12:00:00', format='%H:%M:%S')\n",
        "batas_waktu3 = pd.to_datetime('18:00:00', format='%H:%M:%S')\n",
        "\n",
        "def jam(hasil_scrape_ok):\n",
        "    if hasil_scrape_ok['jam permohonan'] < batas_waktu1:\n",
        "        return \"Jam 00.00 s.d. 06.00\"\n",
        "    elif hasil_scrape_ok['jam permohonan'] < batas_waktu2:\n",
        "        return \"Jam 06.00 s.d. 12.00\"\n",
        "    elif hasil_scrape_ok['jam permohonan'] < batas_waktu3:\n",
        "        return \"Jam 12.00 s.d. 18.00\"\n",
        "    else:\n",
        "        return \"Jam 18.00 s.d. 24.00\"\n",
        "\n",
        "hasil_scrape_ok['jam permohonan'] = hasil_scrape_ok['waktu_permohonan_real'].dt.time\n",
        "hasil_scrape_ok['jam permohonan'] = pd.to_datetime(hasil_scrape_ok['jam permohonan'], format='%H:%M:%S')\n",
        "hasil_scrape_ok['pembagian jam permohonan'] = hasil_scrape_ok.apply(jam, axis=1)\n",
        "\n",
        "waktu_permohonan = datagabung_tanpabug.groupby('pembagian jam permohonan')['pembagian jam permohonan'].count().reset_index(name='jumlah')\n",
        "waktu_permohonan['persentase'] = waktu_permohonan['jumlah']/len(datagabung_tanpabug)*100\n",
        "#waktu_permohonan\n"
      ],
      "metadata": {
        "colab": {
          "base_uri": "https://localhost:8080/",
          "height": 590
        },
        "id": "pcypDdQX9HEN",
        "outputId": "1888777d-f9e5-40c2-8e8f-d1156be303dc"
      },
      "execution_count": 6,
      "outputs": [
        {
          "output_type": "stream",
          "name": "stderr",
          "text": [
            "/usr/local/lib/python3.7/dist-packages/ipykernel_launcher.py:80: SettingWithCopyWarning: \n",
            "A value is trying to be set on a copy of a slice from a DataFrame.\n",
            "Try using .loc[row_indexer,col_indexer] = value instead\n",
            "\n",
            "See the caveats in the documentation: https://pandas.pydata.org/pandas-docs/stable/user_guide/indexing.html#returning-a-view-versus-a-copy\n"
          ]
        },
        {
          "output_type": "error",
          "ename": "KeyError",
          "evalue": "ignored",
          "traceback": [
            "\u001b[0;31m---------------------------------------------------------------------------\u001b[0m",
            "\u001b[0;31mKeyError\u001b[0m                                  Traceback (most recent call last)",
            "\u001b[0;32m/usr/local/lib/python3.7/dist-packages/pandas/core/indexes/base.py\u001b[0m in \u001b[0;36mget_loc\u001b[0;34m(self, key, method, tolerance)\u001b[0m\n\u001b[1;32m   3360\u001b[0m             \u001b[0;32mtry\u001b[0m\u001b[0;34m:\u001b[0m\u001b[0;34m\u001b[0m\u001b[0;34m\u001b[0m\u001b[0m\n\u001b[0;32m-> 3361\u001b[0;31m                 \u001b[0;32mreturn\u001b[0m \u001b[0mself\u001b[0m\u001b[0;34m.\u001b[0m\u001b[0m_engine\u001b[0m\u001b[0;34m.\u001b[0m\u001b[0mget_loc\u001b[0m\u001b[0;34m(\u001b[0m\u001b[0mcasted_key\u001b[0m\u001b[0;34m)\u001b[0m\u001b[0;34m\u001b[0m\u001b[0;34m\u001b[0m\u001b[0m\n\u001b[0m\u001b[1;32m   3362\u001b[0m             \u001b[0;32mexcept\u001b[0m \u001b[0mKeyError\u001b[0m \u001b[0;32mas\u001b[0m \u001b[0merr\u001b[0m\u001b[0;34m:\u001b[0m\u001b[0;34m\u001b[0m\u001b[0;34m\u001b[0m\u001b[0m\n",
            "\u001b[0;32m/usr/local/lib/python3.7/dist-packages/pandas/_libs/index.pyx\u001b[0m in \u001b[0;36mpandas._libs.index.IndexEngine.get_loc\u001b[0;34m()\u001b[0m\n",
            "\u001b[0;32m/usr/local/lib/python3.7/dist-packages/pandas/_libs/index.pyx\u001b[0m in \u001b[0;36mpandas._libs.index.IndexEngine.get_loc\u001b[0;34m()\u001b[0m\n",
            "\u001b[0;32mpandas/_libs/hashtable_class_helper.pxi\u001b[0m in \u001b[0;36mpandas._libs.hashtable.PyObjectHashTable.get_item\u001b[0;34m()\u001b[0m\n",
            "\u001b[0;32mpandas/_libs/hashtable_class_helper.pxi\u001b[0m in \u001b[0;36mpandas._libs.hashtable.PyObjectHashTable.get_item\u001b[0;34m()\u001b[0m\n",
            "\u001b[0;31mKeyError\u001b[0m: 'jam_permohonan_UTC'",
            "\nThe above exception was the direct cause of the following exception:\n",
            "\u001b[0;31mKeyError\u001b[0m                                  Traceback (most recent call last)",
            "\u001b[0;32m<ipython-input-6-1ab7f3be2e52>\u001b[0m in \u001b[0;36m<module>\u001b[0;34m\u001b[0m\n\u001b[1;32m    110\u001b[0m \u001b[0;34m\u001b[0m\u001b[0m\n\u001b[1;32m    111\u001b[0m \u001b[0;34m\u001b[0m\u001b[0m\n\u001b[0;32m--> 112\u001b[0;31m \u001b[0mhasil_scrape_ok\u001b[0m\u001b[0;34m[\u001b[0m\u001b[0;34m'bulan permohonan'\u001b[0m\u001b[0;34m]\u001b[0m \u001b[0;34m=\u001b[0m \u001b[0mhasil_scrape_ok\u001b[0m\u001b[0;34m[\u001b[0m\u001b[0;34m'jam_permohonan_UTC'\u001b[0m\u001b[0;34m]\u001b[0m\u001b[0;34m.\u001b[0m\u001b[0mdt\u001b[0m\u001b[0;34m.\u001b[0m\u001b[0mmonth\u001b[0m\u001b[0;34m.\u001b[0m\u001b[0mmap\u001b[0m\u001b[0;34m(\u001b[0m\u001b[0mmonth_mapping\u001b[0m\u001b[0;34m)\u001b[0m\u001b[0;34m\u001b[0m\u001b[0;34m\u001b[0m\u001b[0m\n\u001b[0m\u001b[1;32m    113\u001b[0m \u001b[0mhasil_scrape_ok\u001b[0m\u001b[0;34m[\u001b[0m\u001b[0;34m'hari permohonan'\u001b[0m\u001b[0;34m]\u001b[0m \u001b[0;34m=\u001b[0m \u001b[0mhasil_scrape_ok\u001b[0m\u001b[0;34m[\u001b[0m\u001b[0;34m'jam_permohonan_UTC'\u001b[0m\u001b[0;34m]\u001b[0m\u001b[0;34m.\u001b[0m\u001b[0mdt\u001b[0m\u001b[0;34m.\u001b[0m\u001b[0mdayofweek\u001b[0m\u001b[0;34m.\u001b[0m\u001b[0mmap\u001b[0m\u001b[0;34m(\u001b[0m\u001b[0mdw_mapping\u001b[0m\u001b[0;34m)\u001b[0m\u001b[0;34m\u001b[0m\u001b[0;34m\u001b[0m\u001b[0m\n\u001b[1;32m    114\u001b[0m \u001b[0;34m\u001b[0m\u001b[0m\n",
            "\u001b[0;32m/usr/local/lib/python3.7/dist-packages/pandas/core/frame.py\u001b[0m in \u001b[0;36m__getitem__\u001b[0;34m(self, key)\u001b[0m\n\u001b[1;32m   3456\u001b[0m             \u001b[0;32mif\u001b[0m \u001b[0mself\u001b[0m\u001b[0;34m.\u001b[0m\u001b[0mcolumns\u001b[0m\u001b[0;34m.\u001b[0m\u001b[0mnlevels\u001b[0m \u001b[0;34m>\u001b[0m \u001b[0;36m1\u001b[0m\u001b[0;34m:\u001b[0m\u001b[0;34m\u001b[0m\u001b[0;34m\u001b[0m\u001b[0m\n\u001b[1;32m   3457\u001b[0m                 \u001b[0;32mreturn\u001b[0m \u001b[0mself\u001b[0m\u001b[0;34m.\u001b[0m\u001b[0m_getitem_multilevel\u001b[0m\u001b[0;34m(\u001b[0m\u001b[0mkey\u001b[0m\u001b[0;34m)\u001b[0m\u001b[0;34m\u001b[0m\u001b[0;34m\u001b[0m\u001b[0m\n\u001b[0;32m-> 3458\u001b[0;31m             \u001b[0mindexer\u001b[0m \u001b[0;34m=\u001b[0m \u001b[0mself\u001b[0m\u001b[0;34m.\u001b[0m\u001b[0mcolumns\u001b[0m\u001b[0;34m.\u001b[0m\u001b[0mget_loc\u001b[0m\u001b[0;34m(\u001b[0m\u001b[0mkey\u001b[0m\u001b[0;34m)\u001b[0m\u001b[0;34m\u001b[0m\u001b[0;34m\u001b[0m\u001b[0m\n\u001b[0m\u001b[1;32m   3459\u001b[0m             \u001b[0;32mif\u001b[0m \u001b[0mis_integer\u001b[0m\u001b[0;34m(\u001b[0m\u001b[0mindexer\u001b[0m\u001b[0;34m)\u001b[0m\u001b[0;34m:\u001b[0m\u001b[0;34m\u001b[0m\u001b[0;34m\u001b[0m\u001b[0m\n\u001b[1;32m   3460\u001b[0m                 \u001b[0mindexer\u001b[0m \u001b[0;34m=\u001b[0m \u001b[0;34m[\u001b[0m\u001b[0mindexer\u001b[0m\u001b[0;34m]\u001b[0m\u001b[0;34m\u001b[0m\u001b[0;34m\u001b[0m\u001b[0m\n",
            "\u001b[0;32m/usr/local/lib/python3.7/dist-packages/pandas/core/indexes/base.py\u001b[0m in \u001b[0;36mget_loc\u001b[0;34m(self, key, method, tolerance)\u001b[0m\n\u001b[1;32m   3361\u001b[0m                 \u001b[0;32mreturn\u001b[0m \u001b[0mself\u001b[0m\u001b[0;34m.\u001b[0m\u001b[0m_engine\u001b[0m\u001b[0;34m.\u001b[0m\u001b[0mget_loc\u001b[0m\u001b[0;34m(\u001b[0m\u001b[0mcasted_key\u001b[0m\u001b[0;34m)\u001b[0m\u001b[0;34m\u001b[0m\u001b[0;34m\u001b[0m\u001b[0m\n\u001b[1;32m   3362\u001b[0m             \u001b[0;32mexcept\u001b[0m \u001b[0mKeyError\u001b[0m \u001b[0;32mas\u001b[0m \u001b[0merr\u001b[0m\u001b[0;34m:\u001b[0m\u001b[0;34m\u001b[0m\u001b[0;34m\u001b[0m\u001b[0m\n\u001b[0;32m-> 3363\u001b[0;31m                 \u001b[0;32mraise\u001b[0m \u001b[0mKeyError\u001b[0m\u001b[0;34m(\u001b[0m\u001b[0mkey\u001b[0m\u001b[0;34m)\u001b[0m \u001b[0;32mfrom\u001b[0m \u001b[0merr\u001b[0m\u001b[0;34m\u001b[0m\u001b[0;34m\u001b[0m\u001b[0m\n\u001b[0m\u001b[1;32m   3364\u001b[0m \u001b[0;34m\u001b[0m\u001b[0m\n\u001b[1;32m   3365\u001b[0m         \u001b[0;32mif\u001b[0m \u001b[0mis_scalar\u001b[0m\u001b[0;34m(\u001b[0m\u001b[0mkey\u001b[0m\u001b[0;34m)\u001b[0m \u001b[0;32mand\u001b[0m \u001b[0misna\u001b[0m\u001b[0;34m(\u001b[0m\u001b[0mkey\u001b[0m\u001b[0;34m)\u001b[0m \u001b[0;32mand\u001b[0m \u001b[0;32mnot\u001b[0m \u001b[0mself\u001b[0m\u001b[0;34m.\u001b[0m\u001b[0mhasnans\u001b[0m\u001b[0;34m:\u001b[0m\u001b[0;34m\u001b[0m\u001b[0;34m\u001b[0m\u001b[0m\n",
            "\u001b[0;31mKeyError\u001b[0m: 'jam_permohonan_UTC'"
          ]
        }
      ]
    },
    {
      "cell_type": "markdown",
      "source": [],
      "metadata": {
        "id": "2uKAgCLeyOfn"
      }
    },
    {
      "cell_type": "markdown",
      "source": [],
      "metadata": {
        "id": "tFRwStLMyOhb"
      }
    },
    {
      "cell_type": "markdown",
      "source": [],
      "metadata": {
        "id": "St25Vr-RyOkz"
      }
    },
    {
      "cell_type": "markdown",
      "source": [],
      "metadata": {
        "id": "6NyaWJmRyOma"
      }
    },
    {
      "cell_type": "markdown",
      "source": [],
      "metadata": {
        "id": "NKjBjT7jyOqP"
      }
    },
    {
      "cell_type": "markdown",
      "source": [],
      "metadata": {
        "id": "CfZGxuBgyOuq"
      }
    },
    {
      "cell_type": "markdown",
      "source": [
        "#data hasil scrape yg anomali (asumsi ada bug)"
      ],
      "metadata": {
        "id": "pWkGStZxys4g"
      }
    },
    {
      "cell_type": "code",
      "source": [
        "hasil_scrape_bug.dropna(subset=['No']).to_csv('hasil_scrape_bug.csv')\n",
        "files.download('hasil_scrape_bug.csv')\n"
      ],
      "metadata": {
        "id": "ZO-4YEIPyyeY"
      },
      "execution_count": null,
      "outputs": []
    },
    {
      "cell_type": "markdown",
      "source": [
        "#statistik durasi lama pelayanan"
      ],
      "metadata": {
        "id": "PahT0S7-wt3B"
      }
    },
    {
      "cell_type": "code",
      "source": [
        "lama_pelayanan"
      ],
      "metadata": {
        "id": "EX_kZx77w1Io"
      },
      "execution_count": null,
      "outputs": []
    },
    {
      "cell_type": "markdown",
      "source": [
        "#statistik waktu pelayanan"
      ],
      "metadata": {
        "id": "3B9PjL26zbuz"
      }
    },
    {
      "cell_type": "code",
      "source": [
        "waktu_pelayanan"
      ],
      "metadata": {
        "id": "q_uOGHzKzfnK"
      },
      "execution_count": null,
      "outputs": []
    },
    {
      "cell_type": "markdown",
      "source": [
        "#statistik hari pelayanan"
      ],
      "metadata": {
        "id": "RZickAJLzgFd"
      }
    },
    {
      "cell_type": "code",
      "source": [
        "hari_permohonan"
      ],
      "metadata": {
        "id": "l_9QIsjszj0u"
      },
      "execution_count": null,
      "outputs": []
    },
    {
      "cell_type": "markdown",
      "source": [
        "#statistik bulan pelayanan"
      ],
      "metadata": {
        "id": "t_4bXWvBzkgf"
      }
    },
    {
      "cell_type": "code",
      "source": [
        "bulan_permohonan"
      ],
      "metadata": {
        "id": "iUTphiuUztEY"
      },
      "execution_count": null,
      "outputs": []
    },
    {
      "cell_type": "markdown",
      "source": [],
      "metadata": {
        "id": "1LgNqJp70ovG"
      }
    },
    {
      "cell_type": "markdown",
      "source": [],
      "metadata": {
        "id": "ZszCWlCE0ow6"
      }
    },
    {
      "cell_type": "markdown",
      "source": [],
      "metadata": {
        "id": "n1B-QCW70o0a"
      }
    },
    {
      "cell_type": "markdown",
      "source": [],
      "metadata": {
        "id": "WUkK398H0o2E"
      }
    },
    {
      "cell_type": "markdown",
      "source": [],
      "metadata": {
        "id": "kzsfzqGc0o5X"
      }
    },
    {
      "cell_type": "markdown",
      "source": [],
      "metadata": {
        "id": "FIhAavT20o65"
      }
    },
    {
      "cell_type": "markdown",
      "source": [],
      "metadata": {
        "id": "IApN50uE0o-d"
      }
    },
    {
      "cell_type": "markdown",
      "source": [],
      "metadata": {
        "id": "2yx8UHky0pAv"
      }
    },
    {
      "cell_type": "code",
      "source": [
        "\n",
        "for url in urls:\n",
        "    my_url = requests.get(url) \n",
        "  \n",
        "    soup = bs(my_url.content, 'html.parser')\n",
        "    #print(soup)\n",
        "    s = soup('a', class_='btn btn-primary ls-modal')\n",
        "    #print(s)\n",
        "    for link in soup.find_all('a', attrs={'href': re.compile(\"kode_perusahaan=\")}):\n",
        "      daftarlink.append('https://monitoring-inaportnet.dephub.go.id'+link.get('href')+'&download=1')\n",
        "      #daftarlink.append(link.get('href'))\n",
        "      #print(daftarlink)\n",
        "\n",
        "len(daftarlink)\n",
        "#print(urls)\n",
        "#print(urlpage)\n",
        "\n"
      ],
      "metadata": {
        "id": "EnDB9OqQjKDZ"
      },
      "execution_count": null,
      "outputs": []
    },
    {
      "cell_type": "code",
      "source": [
        "hasil_scrape = pd.DataFrame(pd.read_csv(daftarlink[0]))\n",
        "\n",
        "for i in range(0,len(daftarlink)):\n",
        "  data = pd.read_html(daftarlink[i])\n",
        "  df = pd.DataFrame(data[0])\n",
        "\n",
        "  hasil_scrape = pd.concat([hasil_scrape,df],axis=0)\n",
        "\n",
        "\n",
        "\n",
        "hasil_scrape\n",
        "#hasil_scrape.dropna(subset=[\"No\"])\n"
      ],
      "metadata": {
        "id": "UVTGhkdG2PWc"
      },
      "execution_count": null,
      "outputs": []
    },
    {
      "cell_type": "code",
      "source": [
        "\n",
        "#cari data anomali Waktu Respon lebih dulu ketimbang Waktu Permohonan (asumsi ada bug di database inaportnet)\n",
        "\n",
        "hasil_scrape_bug=hasil_scrape[hasil_scrape['selisih_waktu']<timedelta(seconds=0)]\n",
        "hasil_scrape_ok=hasil_scrape[hasil_scrape['selisih_waktu']>timedelta(seconds=0)]"
      ],
      "metadata": {
        "id": "foKqmZads3fD"
      },
      "execution_count": null,
      "outputs": []
    },
    {
      "cell_type": "code",
      "source": [
        "\n",
        "#STAT LAMA PELAYANAN\n",
        "def sel(hasil_scrape):\n",
        "    if hasil_scrape['selisih_waktu'] < timedelta(seconds=31):\n",
        "        return \"Kurang dari 30 detik\"\n",
        "    elif hasil_scrape['selisih_waktu'] < timedelta(minutes=30):\n",
        "        return \"Antara 30 detik - 30 menit\"\n",
        "    elif hasil_scrape['selisih_waktu'] < timedelta(hours=1):\n",
        "        return \"Antara 30 - 60 menit\"\n",
        "    elif hasil_scrape['selisih_waktu'] < timedelta(hours=6):\n",
        "        return \"Antara 1 - 6 jam\"\n",
        "    elif hasil_scrape['selisih_waktu'] < timedelta(hours=12):\n",
        "        return \"Antara 6 - 12 jam\"\n",
        "    elif hasil_scrape['selisih_waktu'] < timedelta(days=1):\n",
        "        return \"Antara 12 - 24 jam\"\n",
        "    else:\n",
        "        return \"Lebih dari 24 jam\"\n",
        "\n",
        "hasil_scrape_ok['lama_pelayanan'] = hasil_scrape_ok.apply(sel, axis=1)\n",
        "sort_data = hasil_scrape_ok.sort_values(\"selisih_waktu\", axis = 0, ascending = True)\n",
        "\n",
        "\n",
        "\n",
        "lama_pelayanan = hasil_scrape_ok.groupby('lama_pelayanan')['lama_pelayanan'].count().reset_index(name='jumlah')\n",
        "lama_pelayanan['persentase'] = lama_pelayanan['jumlah']/len(hasil_scrape_ok)*100\n",
        "\n",
        "\n",
        "#STATISTIK WAKTU PERMOHONAN\n",
        "def jam(datagabung_tanpabug):\n",
        "    if datagabung_tanpabug['jam permohonan'] < batas_waktu1:\n",
        "        return \"Jam 00.00 s.d. 06.00\"\n",
        "    elif datagabung_tanpabug['jam permohonan'] < batas_waktu2:\n",
        "        return \"Jam 06.00 s.d. 12.00\"\n",
        "    elif datagabung_tanpabug['jam permohonan'] < batas_waktu3:\n",
        "        return \"Jam 12.00 s.d. 18.00\"\n",
        "    else:\n",
        "        return \"Jam 18.00 s.d. 24.00\"\n",
        "\n",
        "datagabung_tanpabug['jam permohonan'] = datagabung_tanpabug['waktu_permohonan_real'].dt.time\n",
        "datagabung_tanpabug['jam permohonan'] = pd.to_datetime(datagabung_tanpabug['jam permohonan'], format='%H:%M:%S')\n",
        "datagabung_tanpabug['pembagian jam permohonan'] = datagabung_tanpabug.apply(jam, axis=1)\n"
      ],
      "metadata": {
        "id": "X4SHgrrBvD2s"
      },
      "execution_count": null,
      "outputs": []
    },
    {
      "cell_type": "code",
      "source": [
        "#gruoping month-day pelayanan\n",
        "\n",
        "month_mapping={\n",
        "    1: 'January', \n",
        "    2: 'February', \n",
        "    3: 'March', \n",
        "    4: 'April', \n",
        "    5: 'May',\n",
        "    6: 'June', \n",
        "    7: 'July',\n",
        "    8: 'August'\n",
        "} \n",
        "dw_mapping={\n",
        "    0: 'Monday', \n",
        "    1: 'Tuesday', \n",
        "    2: 'Wednesday', \n",
        "    3: 'Thursday', \n",
        "    4: 'Friday',\n",
        "    5: 'Saturday', \n",
        "    6: 'Sunday'\n",
        "} \n",
        "\n",
        "hasil_scrape_ok['bulan permohonan'] = hasil_scrape_ok['jam_permohonan_UTC].dt.month.map(month_mapping)\n",
        "hasil_scrape_ok['hari permohonan'] = hasil_scrape_ok['jam_permohonan_UTC'].dt.dayofweek.map(dw_mapping)\n",
        "\n",
        "bulan_permohonan = hasil_scrape_ok.groupby('bulan permohonan')['bulan permohonan'].count().reset_index(name='jumlah')\n",
        "bulan_permohonan['persentase'] = bulan_permohonan['jumlah']/len(datagabung)*100\n",
        "\n",
        "def nomor(bulan_permohonan):\n",
        "    if bulan_permohonan['bulan permohonan'] == 'January':\n",
        "        return 1\n",
        "    elif bulan_permohonan['bulan permohonan'] == 'February':\n",
        "        return 2\n",
        "    elif bulan_permohonan['bulan permohonan'] == 'March':\n",
        "        return 3\n",
        "    elif bulan_permohonan['bulan permohonan'] == 'April':\n",
        "        return 4\n",
        "    elif bulan_permohonan['bulan permohonan'] == 'May':\n",
        "        return 5\n",
        "    elif bulan_permohonan['bulan permohonan'] == 'June':\n",
        "        return 6\n",
        "    elif bulan_permohonan['bulan permohonan'] == 'July':\n",
        "        return 7\n",
        "    else:\n",
        "        return 8\n",
        "\n",
        "bulan_permohonan['nomor'] = bulan_permohonan.apply(nomor, axis=1)\n",
        "bulan_permohonan = bulan_permohonan.sort_values(\"nomor\", axis = 0, ascending = True)\n",
        "bulan_permohonan\n"
      ],
      "metadata": {
        "id": "ZbYnU6GT5lRs"
      },
      "execution_count": null,
      "outputs": []
    },
    {
      "cell_type": "markdown",
      "source": [],
      "metadata": {
        "id": "CRMELIqhQtZ8"
      }
    },
    {
      "cell_type": "markdown",
      "source": [],
      "metadata": {
        "id": "DOoEVDsdQtm7"
      }
    }
  ]
}