{
  "nbformat": 4,
  "nbformat_minor": 0,
  "metadata": {
    "colab": {
      "provenance": [],
      "collapsed_sections": [],
      "authorship_tag": "ABX9TyNqxLrIy/R4xpmo4C0XGg8Y",
      "include_colab_link": true
    },
    "kernelspec": {
      "name": "python3",
      "display_name": "Python 3"
    },
    "language_info": {
      "name": "python"
    }
  },
  "cells": [
    {
      "cell_type": "markdown",
      "metadata": {
        "id": "view-in-github",
        "colab_type": "text"
      },
      "source": [
        "<a href=\"https://colab.research.google.com/github/ekacs/scrap-inaportnet-22/blob/main2/simple_webscrap_INAPORTNET.ipynb\" target=\"_parent\"><img src=\"https://colab.research.google.com/assets/colab-badge.svg\" alt=\"Open In Colab\"/></a>"
      ]
    },
    {
      "cell_type": "code",
      "source": [
        "import requests\n",
        "from bs4 import BeautifulSoup as bs\n",
        "import pandas as pd\n",
        "import os\n",
        "import re\n",
        "from google.colab import files\n",
        "\n"
      ],
      "metadata": {
        "id": "o_TI6yOd9HbU"
      },
      "execution_count": null,
      "outputs": []
    },
    {
      "cell_type": "code",
      "source": [
        "berapa_bulan=2\n",
        "urls=[]\n",
        "daftarlink=[]   \n",
        "daftarbulan=['00','01','02','03','04','05','06','07']\n",
        "\n",
        "\n",
        "for n in range(1,berapa_bulan+1):\n",
        "  \n",
        "  urlpage = ('https://monitoring-inaportnet.dephub.go.id/site/port_detail_service?unlocode=IDJKT&bulan={a}&tahun=2022&service_code=RKBM').format(a=(daftarbulan[n]))\n",
        "  urls.append(urlpage)\n",
        "  #print(urlpage)\n",
        "  #print(urls)\n",
        "\n",
        "\n",
        "for url in urls:\n",
        "    my_url = requests.get(url) \n",
        "  \n",
        "    soup = bs(my_url.content, 'html.parser')\n",
        "    #print(soup)\n",
        "    s = soup('a', class_='btn btn-primary ls-modal')\n",
        "    #print(s)\n",
        "    for link in soup.find_all('a', attrs={'href': re.compile(\"kode_perusahaan=\")}):\n",
        "      daftarlink.append('https://monitoring-inaportnet.dephub.go.id'+link.get('href')+'&download=1')\n",
        "      #daftarlink.append(link.get('href'))\n",
        "      #print(daftarlink)\n",
        "\n",
        "len(daftarlink)\n",
        "#urls\n",
        "#print(urlpage)"
      ],
      "metadata": {
        "colab": {
          "base_uri": "https://localhost:8080/"
        },
        "id": "3xPvc1eHVMaz",
        "outputId": "df7deba3-12b5-4b1e-8108-6af45214ec03"
      },
      "execution_count": null,
      "outputs": [
        {
          "output_type": "execute_result",
          "data": {
            "text/plain": [
              "127"
            ]
          },
          "metadata": {},
          "execution_count": 39
        }
      ]
    },
    {
      "cell_type": "code",
      "source": [
        "a=(daftarbulan[n])\n",
        "a"
      ],
      "metadata": {
        "colab": {
          "base_uri": "https://localhost:8080/",
          "height": 36
        },
        "id": "SQlEv1Fuz2cM",
        "outputId": "88375310-b5f4-4d14-90f0-84a42241d4d8"
      },
      "execution_count": null,
      "outputs": [
        {
          "output_type": "execute_result",
          "data": {
            "text/plain": [
              "'04'"
            ],
            "application/vnd.google.colaboratory.intrinsic+json": {
              "type": "string"
            }
          },
          "metadata": {},
          "execution_count": 30
        }
      ]
    },
    {
      "cell_type": "code",
      "source": [
        "urls"
      ],
      "metadata": {
        "colab": {
          "base_uri": "https://localhost:8080/"
        },
        "id": "ecSpIcsyxteM",
        "outputId": "160da8b7-8cf5-4076-cb91-fd34bad8ac17"
      },
      "execution_count": null,
      "outputs": [
        {
          "output_type": "execute_result",
          "data": {
            "text/plain": [
              "['https://monitoring-inaportnet.dephub.go.id/site/port_detail_service?unlocode=IDJKT&bulan=01&tahun=2022&service_code=RKBM',\n",
              " 'https://monitoring-inaportnet.dephub.go.id/site/port_detail_service?unlocode=IDJKT&bulan=02&tahun=2022&service_code=RKBM',\n",
              " 'https://monitoring-inaportnet.dephub.go.id/site/port_detail_service?unlocode=IDJKT&bulan=03&tahun=2022&service_code=RKBM']"
            ]
          },
          "metadata": {},
          "execution_count": 38
        }
      ]
    },
    {
      "cell_type": "code",
      "source": [
        "hasil_scrape = pd.DataFrame(pd.read_csv(daftarlink[0]))\n",
        "  \n",
        "for i in range(1,len(daftarlink)):\n",
        "    data = pd.read_html(daftarlink[i])\n",
        "    df = pd.DataFrame(data[0])\n",
        "\n",
        "    hasil_scrape = pd.concat([hasil_scrape,df],axis=0)\n",
        "print(hasil_scrape)"
      ],
      "metadata": {
        "colab": {
          "base_uri": "https://localhost:8080/"
        },
        "id": "x38Jefenqh_J",
        "outputId": "cad56f25-b687-44ba-bd36-4ec3b258ad1a"
      },
      "execution_count": null,
      "outputs": [
        {
          "output_type": "stream",
          "name": "stdout",
          "text": [
            "               <table class=\"table table-bordered\">   No           Nama Kapal  \\\n",
            "0                                           <thead>  NaN                  NaN   \n",
            "1               <tr style=\"background-color: #eee\">  NaN                  NaN   \n",
            "2                            <th width=\"20\">No</th>  NaN                  NaN   \n",
            "3                               <th>Nama Kapal</th>  NaN                  NaN   \n",
            "4                         <th>Waktu Permohonan</th>  NaN                  NaN   \n",
            "..                                              ...  ...                  ...   \n",
            "1                                               NaN  2.0       MV. TOYO WORLD   \n",
            "2                                               NaN  3.0          MV. ZHIDA 1   \n",
            "0                                               NaN  1.0  MV. BRAHMAN EXPRESS   \n",
            "0                                               NaN  1.0       MV COREBEST OL   \n",
            "1                                               NaN  2.0            MV. BLUME   \n",
            "\n",
            "       Waktu Permohonan         Waktu Respon             Nomor Produk  \n",
            "0                   NaN                  NaN                      NaN  \n",
            "1                   NaN                  NaN                      NaN  \n",
            "2                   NaN                  NaN                      NaN  \n",
            "3                   NaN                  NaN                      NaN  \n",
            "4                   NaN                  NaN                      NaN  \n",
            "..                  ...                  ...                      ...  \n",
            "1   23-02-2022 07:05:16  23-02-2022 14:08:04  SL004.IDJKT.0222.000775  \n",
            "2   23-02-2022 08:07:37  23-02-2022 15:08:16  SL004.IDJKT.0222.000779  \n",
            "0   11-02-2022 04:50:04  11-02-2022 11:51:29  SL004.IDJKT.0222.000340  \n",
            "0   18-02-2022 02:46:33  18-02-2022 10:05:19  SL004.IDJKT.0222.000602  \n",
            "1   11-02-2022 10:27:30  11-02-2022 17:32:40  SL004.IDJKT.0222.000357  \n",
            "\n",
            "[1996 rows x 6 columns]\n"
          ]
        }
      ]
    },
    {
      "cell_type": "code",
      "source": [
        "hasil_scrape.dropna(subset=[\"No\"])\n",
        "\n",
        "hasil_scrape.dropna(subset=['No']).to_csv('hasil_scrape.csv')\n",
        "files.download('hasil_scrape.csv')\n"
      ],
      "metadata": {
        "colab": {
          "base_uri": "https://localhost:8080/",
          "height": 17
        },
        "id": "8ZLcvoeNqPyl",
        "outputId": "0d6e10fa-e661-4161-85e4-627112b8eb58"
      },
      "execution_count": null,
      "outputs": [
        {
          "output_type": "display_data",
          "data": {
            "text/plain": [
              "<IPython.core.display.Javascript object>"
            ],
            "application/javascript": [
              "\n",
              "    async function download(id, filename, size) {\n",
              "      if (!google.colab.kernel.accessAllowed) {\n",
              "        return;\n",
              "      }\n",
              "      const div = document.createElement('div');\n",
              "      const label = document.createElement('label');\n",
              "      label.textContent = `Downloading \"${filename}\": `;\n",
              "      div.appendChild(label);\n",
              "      const progress = document.createElement('progress');\n",
              "      progress.max = size;\n",
              "      div.appendChild(progress);\n",
              "      document.body.appendChild(div);\n",
              "\n",
              "      const buffers = [];\n",
              "      let downloaded = 0;\n",
              "\n",
              "      const channel = await google.colab.kernel.comms.open(id);\n",
              "      // Send a message to notify the kernel that we're ready.\n",
              "      channel.send({})\n",
              "\n",
              "      for await (const message of channel.messages) {\n",
              "        // Send a message to notify the kernel that we're ready.\n",
              "        channel.send({})\n",
              "        if (message.buffers) {\n",
              "          for (const buffer of message.buffers) {\n",
              "            buffers.push(buffer);\n",
              "            downloaded += buffer.byteLength;\n",
              "            progress.value = downloaded;\n",
              "          }\n",
              "        }\n",
              "      }\n",
              "      const blob = new Blob(buffers, {type: 'application/binary'});\n",
              "      const a = document.createElement('a');\n",
              "      a.href = window.URL.createObjectURL(blob);\n",
              "      a.download = filename;\n",
              "      div.appendChild(a);\n",
              "      a.click();\n",
              "      div.remove();\n",
              "    }\n",
              "  "
            ]
          },
          "metadata": {}
        },
        {
          "output_type": "display_data",
          "data": {
            "text/plain": [
              "<IPython.core.display.Javascript object>"
            ],
            "application/javascript": [
              "download(\"download_15e384c4-31bd-416b-9659-29d979f59751\", \"hasil_scrape.csv\", 88487)"
            ]
          },
          "metadata": {}
        }
      ]
    }
  ]
}